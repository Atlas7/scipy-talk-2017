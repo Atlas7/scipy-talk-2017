{
 "cells": [
  {
   "cell_type": "code",
   "execution_count": null,
   "metadata": {
    "slideshow": {
     "slide_type": "skip"
    }
   },
   "outputs": [],
   "source": [
    "import holoviews as hv\n",
    "import geoviews as gv\n",
    "import param, paramnb, parambokeh\n",
    "import pandas as pd\n",
    "import dask.dataframe as dd\n",
    "\n",
    "from colorcet import cm\n",
    "from bokeh.models import WMTSTileSource\n",
    "from holoviews.operation.datashader import datashade\n",
    "from holoviews.streams import RangeXY, PlotSize\n",
    "\n",
    "hv.extension('bokeh')\n",
    "\n",
    "ddf = dd.read_parquet('./data/nyc_taxi.parq/').persist()"
   ]
  },
  {
   "cell_type": "markdown",
   "metadata": {
    "extensions": {
     "jupyter_dashboards": {
      "version": 1,
      "views": {
       "grid_default": {
        "col": 0,
        "height": 4,
        "hidden": false,
        "row": 0,
        "width": 12
       },
       "report_default": {}
      }
     }
    },
    "slideshow": {
     "slide_type": "slide"
    }
   },
   "source": [
    "# Dashboards Visualizing Hundreds of Millions of Datapoints in 30 Lines of Python\n",
    "\n",
    "### Philipp Rudiger, James A. Bednar and Jean-Luc Stevens"
   ]
  },
  {
   "cell_type": "markdown",
   "metadata": {
    "extensions": {
     "jupyter_dashboards": {
      "version": 1,
      "views": {
       "grid_default": {
        "col": 0,
        "height": 5,
        "hidden": false,
        "row": 4,
        "width": 12
       },
       "report_default": {}
      }
     }
    }
   },
   "source": [
    "* Jupyter Dashboards is the only way to generate a graphical dashboard layout by interactively positioning them on a grid\n",
    "* Paramnb is the only param UI extension that has been released and has support for most parameter types but can only be deployed using the obsolete Jupyter Dashboards\n",
    "* ParamBokeh is pre-release and allows usage both in the notebook and deployment on bokeh server. It can already be used in the notebook and on bokeh server, however in the notebook it cannot easily be used to completely rerender a plot."
   ]
  },
  {
   "cell_type": "code",
   "execution_count": null,
   "metadata": {
    "extensions": {
     "jupyter_dashboards": {
      "version": 1,
      "views": {
       "grid_default": {
        "hidden": true
       },
       "report_default": {}
      }
     }
    }
   },
   "outputs": [],
   "source": [
    "tiles = gv.WMTS(WMTSTileSource(url='https://server.arcgisonline.com/ArcGIS/rest/services/'\n",
    "                                   'World_Imagery/MapServer/tile/{Z}/{Y}/{X}.jpg'))\n",
    "tile_options = dict(width=800,height=475,xaxis=None,yaxis=None,bgcolor='black',show_grid=False)  \n",
    "\n",
    "passenger_counts = sorted(ddf.passenger_count.unique().compute().tolist())\n",
    "\n",
    "class Options(hv.streams.Stream):\n",
    "    alpha       = param.Magnitude(default=0.75, doc=\"Alpha value for the map opacity\")\n",
    "    colormap    = param.ObjectSelector(default=cm[\"fire\"], objects=cm.values())\n",
    "    plot        = param.ObjectSelector(default=\"pickup\",   objects=[\"pickup\",\"dropoff\"])\n",
    "    passengers  = param.ObjectSelector(default=1,          objects=passenger_counts)\n",
    "\n",
    "    def make_view(self, x_range, y_range, alpha, colormap, plot, passengers):\n",
    "        map_tiles = tiles(style=dict(alpha=alpha), plot=tile_options) \n",
    "\n",
    "        df_filt = ddf[ddf.passenger_count==passengers]\n",
    "        points = hv.Points(df_filt, kdims=[plot+'_x', plot+'_y'])\n",
    "        taxi_trips = datashade(points, x_sampling=1, y_sampling=1, cmap=colormap,\n",
    "                               dynamic=False, x_range=x_range, y_range=y_range)\n",
    "        return map_tiles * taxi_trips\n",
    "    \n",
    "    def view(self):\n",
    "        return hv.DynamicMap(self.make_view, streams=[self, RangeXY()])\n",
    "\n",
    "selector = Options(name=\"\")\n",
    "paramnb.Widgets(selector, callback=selector.event)\n",
    "selector.view()"
   ]
  },
  {
   "cell_type": "code",
   "execution_count": null,
   "metadata": {
    "collapsed": true
   },
   "outputs": [],
   "source": []
  }
 ],
 "metadata": {
  "celltoolbar": "Slideshow",
  "extensions": {
   "jupyter_dashboards": {
    "activeView": "grid_default",
    "version": 1,
    "views": {
     "grid_default": {
      "cellMargin": 10,
      "defaultCellHeight": 20,
      "maxColumns": 12,
      "name": "grid",
      "type": "grid"
     },
     "report_default": {
      "name": "report",
      "type": "report"
     }
    }
   }
  },
  "kernelspec": {
   "display_name": "Python 3",
   "language": "python",
   "name": "python3"
  },
  "language_info": {
   "codemirror_mode": {
    "name": "ipython",
    "version": 3
   },
   "file_extension": ".py",
   "mimetype": "text/x-python",
   "name": "python",
   "nbconvert_exporter": "python",
   "pygments_lexer": "ipython3",
   "version": "3.6.1"
  }
 },
 "nbformat": 4,
 "nbformat_minor": 2
}
